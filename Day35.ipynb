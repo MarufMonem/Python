{
 "cells": [
  {
   "cell_type": "code",
   "execution_count": 8,
   "metadata": {},
   "outputs": [],
   "source": [
    "def person(name, **data):\n",
    "    print(name)\n",
    "    print(data)\n",
    "    for i,j in data.items():\n",
    "        print(i, \" : \", j)"
   ]
  },
  {
   "cell_type": "code",
   "execution_count": 9,
   "metadata": {},
   "outputs": [
    {
     "name": "stdout",
     "output_type": "stream",
     "text": [
      "Maruf\n",
      "{'city': 'Dhaka', 'country': 'BD', 'zipCode': 123456}\n",
      "city  :  Dhaka\n",
      "country  :  BD\n",
      "zipCode  :  123456\n"
     ]
    }
   ],
   "source": [
    "person(\"Maruf\", city=\"Dhaka\", country=\"BD\", zipCode = 123456)"
   ]
  }
 ],
 "metadata": {
  "kernelspec": {
   "display_name": "Python 3",
   "language": "python",
   "name": "python3"
  },
  "language_info": {
   "codemirror_mode": {
    "name": "ipython",
    "version": 3
   },
   "file_extension": ".py",
   "mimetype": "text/x-python",
   "name": "python",
   "nbconvert_exporter": "python",
   "pygments_lexer": "ipython3",
   "version": "3.12.0"
  }
 },
 "nbformat": 4,
 "nbformat_minor": 2
}
