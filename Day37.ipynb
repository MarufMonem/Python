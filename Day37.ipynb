{
 "cells": [
  {
   "cell_type": "code",
   "execution_count": 21,
   "metadata": {},
   "outputs": [
    {
     "name": "stdout",
     "output_type": "stream",
     "text": [
      "User provided names are:  ['Mimi', 'maruf', 'monem', 'anik', 'Sanjida', 'Mimi']\n",
      "Usernames with even chars:  ['Mimi', 'anik', 'Mimi']\n",
      "Usernames with odd chars:  ['maruf', 'monem', 'Sanjida']\n"
     ]
    }
   ],
   "source": [
    "nameList = []\n",
    "evenNameList = []\n",
    "oddNameList=[]\n",
    "for i in range(6):\n",
    "    userInput = input(\"Enter the username \"+ str(i)+ \": \")\n",
    "    nameList.append(userInput)\n",
    "\n",
    "print(\"User provided names are: \", nameList) \n",
    "evenOrOdd()\n",
    "print(\"Usernames with even chars: \", evenNameList) \n",
    "print(\"Usernames with odd chars: \" , oddNameList) \n",
    "\n"
   ]
  },
  {
   "cell_type": "code",
   "execution_count": 20,
   "metadata": {},
   "outputs": [],
   "source": [
    "\n",
    "def evenOrOdd():\n",
    "    for i in nameList:\n",
    "        charCount = len(i)\n",
    "        if charCount%2 ==0:\n",
    "            evenNameList.append(i)\n",
    "        else:\n",
    "            oddNameList.append(i)\n",
    "            \n",
    "  "
   ]
  }
 ],
 "metadata": {
  "kernelspec": {
   "display_name": "Python 3",
   "language": "python",
   "name": "python3"
  },
  "language_info": {
   "codemirror_mode": {
    "name": "ipython",
    "version": 3
   },
   "file_extension": ".py",
   "mimetype": "text/x-python",
   "name": "python",
   "nbconvert_exporter": "python",
   "pygments_lexer": "ipython3",
   "version": "3.12.0"
  }
 },
 "nbformat": 4,
 "nbformat_minor": 2
}
