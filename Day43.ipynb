{
 "cells": [
  {
   "cell_type": "code",
   "execution_count": 1,
   "metadata": {},
   "outputs": [],
   "source": [
    "def isEven(val):\n",
    "    return val %2==0\n"
   ]
  },
  {
   "cell_type": "code",
   "execution_count": 2,
   "metadata": {},
   "outputs": [
    {
     "name": "stdout",
     "output_type": "stream",
     "text": [
      "using lambda  [2, 4, 6, 8]\n",
      "using def  [2, 4, 6, 8]\n"
     ]
    }
   ],
   "source": [
    "nums = [1,2,3,4,5,6,7,8,9]\n",
    "\n",
    "onlyEvens1 = list(filter(lambda val: val%2==0, nums))\n",
    "onlyEvens2 = list(filter(isEven, nums))\n",
    "\n",
    "print(\"using lambda \", onlyEvens1)\n",
    "print(\"using def \", onlyEvens2)"
   ]
  },
  {
   "cell_type": "code",
   "execution_count": 3,
   "metadata": {},
   "outputs": [
    {
     "name": "stdout",
     "output_type": "stream",
     "text": [
      "[4, 16, 36, 64]\n"
     ]
    }
   ],
   "source": [
    "doubleVal = list(map(lambda val: val*val, onlyEvens1))\n",
    "print(doubleVal)"
   ]
  },
  {
   "cell_type": "code",
   "execution_count": 7,
   "metadata": {},
   "outputs": [
    {
     "name": "stdout",
     "output_type": "stream",
     "text": [
      "120\n"
     ]
    }
   ],
   "source": [
    "from functools import reduce\n",
    "\n",
    "sum = reduce(lambda a,b: a+b, doubleVal)\n",
    "print(sum)"
   ]
  }
 ],
 "metadata": {
  "kernelspec": {
   "display_name": "Python 3",
   "language": "python",
   "name": "python3"
  },
  "language_info": {
   "codemirror_mode": {
    "name": "ipython",
    "version": 3
   },
   "file_extension": ".py",
   "mimetype": "text/x-python",
   "name": "python",
   "nbconvert_exporter": "python",
   "pygments_lexer": "ipython3",
   "version": "3.12.0"
  }
 },
 "nbformat": 4,
 "nbformat_minor": 2
}
