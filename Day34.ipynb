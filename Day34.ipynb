{
 "cells": [
  {
   "cell_type": "code",
   "execution_count": 4,
   "metadata": {},
   "outputs": [],
   "source": [
    "def person(name, age):\n",
    "    print(\"NAME: \", name)\n",
    "    print(\"Age is: \", age+2)"
   ]
  },
  {
   "cell_type": "markdown",
   "metadata": {},
   "source": [
    "Position based arguments"
   ]
  },
  {
   "cell_type": "code",
   "execution_count": 5,
   "metadata": {},
   "outputs": [
    {
     "name": "stdout",
     "output_type": "stream",
     "text": [
      "NAME:  Anik\n",
      "Age is:  22\n",
      "NAME:  20\n"
     ]
    },
    {
     "ename": "TypeError",
     "evalue": "can only concatenate str (not \"int\") to str",
     "output_type": "error",
     "traceback": [
      "\u001b[1;31m---------------------------------------------------------------------------\u001b[0m",
      "\u001b[1;31mTypeError\u001b[0m                                 Traceback (most recent call last)",
      "\u001b[1;32mx:\\Career\\Learning\\Python\\Day34.ipynb Cell 3\u001b[0m line \u001b[0;36m2\n\u001b[0;32m      <a href='vscode-notebook-cell:/x%3A/Career/Learning/Python/Day34.ipynb#W1sZmlsZQ%3D%3D?line=0'>1</a>\u001b[0m person(\u001b[39m\"\u001b[39m\u001b[39mAnik\u001b[39m\u001b[39m\"\u001b[39m, \u001b[39m20\u001b[39m)\n\u001b[1;32m----> <a href='vscode-notebook-cell:/x%3A/Career/Learning/Python/Day34.ipynb#W1sZmlsZQ%3D%3D?line=1'>2</a>\u001b[0m person(\u001b[39m20\u001b[39;49m, \u001b[39m\"\u001b[39;49m\u001b[39mAnik\u001b[39;49m\u001b[39m\"\u001b[39;49m)\n",
      "\u001b[1;32mx:\\Career\\Learning\\Python\\Day34.ipynb Cell 3\u001b[0m line \u001b[0;36m3\n\u001b[0;32m      <a href='vscode-notebook-cell:/x%3A/Career/Learning/Python/Day34.ipynb#W1sZmlsZQ%3D%3D?line=0'>1</a>\u001b[0m \u001b[39mdef\u001b[39;00m \u001b[39mperson\u001b[39m(name, age):\n\u001b[0;32m      <a href='vscode-notebook-cell:/x%3A/Career/Learning/Python/Day34.ipynb#W1sZmlsZQ%3D%3D?line=1'>2</a>\u001b[0m     \u001b[39mprint\u001b[39m(\u001b[39m\"\u001b[39m\u001b[39mNAME: \u001b[39m\u001b[39m\"\u001b[39m, name)\n\u001b[1;32m----> <a href='vscode-notebook-cell:/x%3A/Career/Learning/Python/Day34.ipynb#W1sZmlsZQ%3D%3D?line=2'>3</a>\u001b[0m     \u001b[39mprint\u001b[39m(\u001b[39m\"\u001b[39m\u001b[39mAge is: \u001b[39m\u001b[39m\"\u001b[39m, age\u001b[39m+\u001b[39;49m\u001b[39m2\u001b[39;49m)\n",
      "\u001b[1;31mTypeError\u001b[0m: can only concatenate str (not \"int\") to str"
     ]
    }
   ],
   "source": [
    "\n",
    "person(\"Anik\", 20)\n",
    "person(20, \"Anik\")"
   ]
  },
  {
   "cell_type": "code",
   "execution_count": 6,
   "metadata": {},
   "outputs": [
    {
     "name": "stdout",
     "output_type": "stream",
     "text": [
      "NAME:  Anik\n",
      "Age is:  22\n"
     ]
    }
   ],
   "source": [
    "person(name=\"Anik\", age=20)"
   ]
  },
  {
   "cell_type": "code",
   "execution_count": 8,
   "metadata": {},
   "outputs": [],
   "source": [
    "def personDefault(name, age=10):\n",
    "    print(\"NAME: \", name)\n",
    "    print(\"Age is: \", age+2)"
   ]
  },
  {
   "cell_type": "code",
   "execution_count": 9,
   "metadata": {},
   "outputs": [
    {
     "name": "stdout",
     "output_type": "stream",
     "text": [
      "NAME:  Anik\n",
      "Age is:  12\n"
     ]
    }
   ],
   "source": [
    "personDefault(\"Anik\")"
   ]
  },
  {
   "cell_type": "code",
   "execution_count": 10,
   "metadata": {},
   "outputs": [],
   "source": [
    "def varaibleSum(a, *b):\n",
    "    sum = a\n",
    "    for i in b:\n",
    "        sum = sum + i\n",
    "    print(sum)"
   ]
  },
  {
   "cell_type": "code",
   "execution_count": 11,
   "metadata": {},
   "outputs": [
    {
     "name": "stdout",
     "output_type": "stream",
     "text": [
      "150\n"
     ]
    }
   ],
   "source": [
    "varaibleSum(10,20,30,40,50)"
   ]
  }
 ],
 "metadata": {
  "kernelspec": {
   "display_name": "Python 3",
   "language": "python",
   "name": "python3"
  },
  "language_info": {
   "codemirror_mode": {
    "name": "ipython",
    "version": 3
   },
   "file_extension": ".py",
   "mimetype": "text/x-python",
   "name": "python",
   "nbconvert_exporter": "python",
   "pygments_lexer": "ipython3",
   "version": "3.12.0"
  }
 },
 "nbformat": 4,
 "nbformat_minor": 2
}
